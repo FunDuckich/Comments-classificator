{
  "cells": [
    {
      "cell_type": "markdown",
      "metadata": {
        "id": "4cbgwZWWfWpp"
      },
      "source": [
        "## Подключение гугл диска"
      ]
    },
    {
      "cell_type": "code",
      "execution_count": null,
      "metadata": {
        "id": "wwrtVl5eFiWO",
        "colab": {
          "base_uri": "https://localhost:8080/"
        },
        "outputId": "ca98bc0d-5322-475f-9288-d57400707f0e"
      },
      "outputs": [
        {
          "output_type": "stream",
          "name": "stdout",
          "text": [
            "Mounted at /content/drive\n"
          ]
        }
      ],
      "source": [
        "from google.colab import drive\n",
        "drive.mount('/content/drive')"
      ]
    },
    {
      "cell_type": "code",
      "execution_count": null,
      "metadata": {
        "colab": {
          "base_uri": "https://localhost:8080/"
        },
        "id": "YLzZCFIGGWWB",
        "outputId": "ad9e86dd-3d94-459f-a5c2-4f16109be102"
      },
      "outputs": [
        {
          "output_type": "stream",
          "name": "stdout",
          "text": [
            "Collecting navec\n",
            "  Downloading navec-0.10.0-py3-none-any.whl (23 kB)\n",
            "Requirement already satisfied: numpy in /usr/local/lib/python3.10/dist-packages (from navec) (1.23.5)\n",
            "Installing collected packages: navec\n",
            "Successfully installed navec-0.10.0\n"
          ]
        }
      ],
      "source": [
        "!pip install navec"
      ]
    },
    {
      "cell_type": "markdown",
      "metadata": {
        "id": "Zwr1a80ti7_y"
      },
      "source": [
        "## Импортирование библиотек"
      ]
    },
    {
      "cell_type": "code",
      "execution_count": null,
      "metadata": {
        "colab": {
          "base_uri": "https://localhost:8080/"
        },
        "id": "fN251ib04idq",
        "outputId": "73e6882d-88c3-4e43-fe73-39107155187d"
      },
      "outputs": [
        {
          "output_type": "stream",
          "name": "stderr",
          "text": [
            "[nltk_data] Downloading package stopwords to /root/nltk_data...\n",
            "[nltk_data]   Package stopwords is already up-to-date!\n"
          ]
        }
      ],
      "source": [
        "from tensorflow import keras\n",
        "from keras.models import Sequential\n",
        "from keras.layers import Dense, LSTM, Dropout, Bidirectional, Input\n",
        "from keras import utils, models\n",
        "\n",
        "from keras.callbacks import ModelCheckpoint\n",
        "\n",
        "import numpy as np\n",
        "\n",
        "import matplotlib.pyplot as plt\n",
        "%matplotlib inline\n",
        "\n",
        "import tensorflow as tf\n",
        "\n",
        "import pandas as pd\n",
        "\n",
        "import nltk\n",
        "from nltk.corpus import stopwords\n",
        "nltk.download(\"stopwords\")\n",
        "\n",
        "import re\n",
        "\n",
        "from navec import Navec"
      ]
    },
    {
      "cell_type": "code",
      "execution_count": null,
      "metadata": {
        "id": "0P2qQXAjxKFH"
      },
      "outputs": [],
      "source": [
        "max_comment_len = 12\n",
        "vector_size = 300"
      ]
    },
    {
      "cell_type": "markdown",
      "metadata": {
        "id": "UlUjg32sV4_i"
      },
      "source": [
        "## Загрузка данных для обучения и тестирования"
      ]
    },
    {
      "cell_type": "code",
      "execution_count": null,
      "metadata": {
        "id": "ShDMhzT3V82h"
      },
      "outputs": [],
      "source": [
        "file = open('/content/drive/MyDrive/bc/x_train', 'rb')\n",
        "x_train = np.load(file)\n",
        "file.close()"
      ]
    },
    {
      "cell_type": "code",
      "execution_count": null,
      "metadata": {
        "id": "21CvuDB7WDkB"
      },
      "outputs": [],
      "source": [
        "file = open('/content/drive/MyDrive/bc/y_train', 'rb')\n",
        "y_train = np.load(file)\n",
        "file.close()"
      ]
    },
    {
      "cell_type": "code",
      "execution_count": null,
      "metadata": {
        "id": "xhPcDPgMWFr5"
      },
      "outputs": [],
      "source": [
        "file = open('/content/drive/MyDrive/bc/x_test', 'rb')\n",
        "x_test = np.load(file)\n",
        "file.close()"
      ]
    },
    {
      "cell_type": "code",
      "execution_count": null,
      "metadata": {
        "id": "_4G0eLxWWJIg"
      },
      "outputs": [],
      "source": [
        "file = open('/content/drive/MyDrive/bc/y_test', 'rb')\n",
        "y_test = np.load(file)\n",
        "file.close()"
      ]
    },
    {
      "cell_type": "code",
      "execution_count": null,
      "metadata": {
        "id": "dqYNSi-F4CpF"
      },
      "outputs": [],
      "source": [
        "x_train = x_train[:, None, :]"
      ]
    },
    {
      "cell_type": "code",
      "execution_count": null,
      "metadata": {
        "id": "zl51bjdA6UxX"
      },
      "outputs": [],
      "source": [
        "x_test = x_test[:, None, :]"
      ]
    },
    {
      "cell_type": "code",
      "execution_count": null,
      "metadata": {
        "id": "M6QKwn6K59rY"
      },
      "outputs": [],
      "source": [
        "x_train[0].shape"
      ]
    },
    {
      "cell_type": "markdown",
      "metadata": {
        "id": "ypBYfEwvO0c4"
      },
      "source": [
        "## Создание нейронной сети\n"
      ]
    },
    {
      "cell_type": "code",
      "execution_count": null,
      "metadata": {
        "id": "Gz4bMUSURta1",
        "colab": {
          "base_uri": "https://localhost:8080/"
        },
        "outputId": "d3e3bffa-cba9-45e0-ce92-181de3dee528"
      },
      "outputs": [
        {
          "output_type": "stream",
          "name": "stderr",
          "text": [
            "WARNING:tensorflow:Layer lstm will not use cuDNN kernels since it doesn't meet the criteria. It will use a generic GPU kernel as fallback when running on GPU.\n",
            "WARNING:tensorflow:Layer lstm will not use cuDNN kernels since it doesn't meet the criteria. It will use a generic GPU kernel as fallback when running on GPU.\n",
            "WARNING:tensorflow:Layer lstm will not use cuDNN kernels since it doesn't meet the criteria. It will use a generic GPU kernel as fallback when running on GPU.\n",
            "WARNING:tensorflow:Layer lstm_1 will not use cuDNN kernels since it doesn't meet the criteria. It will use a generic GPU kernel as fallback when running on GPU.\n",
            "WARNING:tensorflow:Layer lstm_1 will not use cuDNN kernels since it doesn't meet the criteria. It will use a generic GPU kernel as fallback when running on GPU.\n",
            "WARNING:tensorflow:Layer lstm_1 will not use cuDNN kernels since it doesn't meet the criteria. It will use a generic GPU kernel as fallback when running on GPU.\n",
            "WARNING:tensorflow:Layer lstm_2 will not use cuDNN kernels since it doesn't meet the criteria. It will use a generic GPU kernel as fallback when running on GPU.\n",
            "WARNING:tensorflow:Layer lstm_2 will not use cuDNN kernels since it doesn't meet the criteria. It will use a generic GPU kernel as fallback when running on GPU.\n",
            "WARNING:tensorflow:Layer lstm_2 will not use cuDNN kernels since it doesn't meet the criteria. It will use a generic GPU kernel as fallback when running on GPU.\n"
          ]
        }
      ],
      "source": [
        "model = Sequential()\n",
        "model.add(Input(shape=(1, max_comment_len * vector_size)))\n",
        "model.add(Bidirectional(LSTM(8,\n",
        "                        return_sequences=True,\n",
        "                        dropout=0.8,\n",
        "                        recurrent_dropout=0.8)))\n",
        "model.add(Bidirectional(LSTM(16,\n",
        "                        return_sequences=True,\n",
        "                        dropout=0.8,\n",
        "                        recurrent_dropout=0.8)))\n",
        "model.add(Bidirectional(LSTM(4,\n",
        "                        return_sequences=False,\n",
        "                        dropout=0.8,\n",
        "                        recurrent_dropout=0.8)))\n",
        "model.add(Dense(1, activation='sigmoid'))"
      ]
    },
    {
      "cell_type": "code",
      "execution_count": null,
      "metadata": {
        "id": "74NnG1XvRta7"
      },
      "outputs": [],
      "source": [
        "model.compile(optimizer='adam',\n",
        "              loss='binary_crossentropy',\n",
        "              metrics=['accuracy'])"
      ]
    },
    {
      "cell_type": "code",
      "execution_count": null,
      "metadata": {
        "id": "l80zkwsIRta8"
      },
      "outputs": [],
      "source": [
        "model.summary()"
      ]
    },
    {
      "cell_type": "markdown",
      "metadata": {
        "id": "sjS5LmpnU8AN"
      },
      "source": [
        "## Если необходимо, загрузка сохранённой модели с гугл диска"
      ]
    },
    {
      "cell_type": "code",
      "execution_count": null,
      "metadata": {
        "id": "EXL6_18aqYH-",
        "colab": {
          "base_uri": "https://localhost:8080/"
        },
        "outputId": "ae682e13-1374-4cae-956d-9b536e1bb568"
      },
      "outputs": [
        {
          "output_type": "stream",
          "name": "stderr",
          "text": [
            "WARNING:tensorflow:Layer lstm will not use cuDNN kernels since it doesn't meet the criteria. It will use a generic GPU kernel as fallback when running on GPU.\n",
            "WARNING:tensorflow:Layer lstm will not use cuDNN kernels since it doesn't meet the criteria. It will use a generic GPU kernel as fallback when running on GPU.\n",
            "WARNING:tensorflow:Layer lstm will not use cuDNN kernels since it doesn't meet the criteria. It will use a generic GPU kernel as fallback when running on GPU.\n",
            "WARNING:tensorflow:Layer lstm_1 will not use cuDNN kernels since it doesn't meet the criteria. It will use a generic GPU kernel as fallback when running on GPU.\n",
            "WARNING:tensorflow:Layer lstm_1 will not use cuDNN kernels since it doesn't meet the criteria. It will use a generic GPU kernel as fallback when running on GPU.\n",
            "WARNING:tensorflow:Layer lstm_1 will not use cuDNN kernels since it doesn't meet the criteria. It will use a generic GPU kernel as fallback when running on GPU.\n",
            "WARNING:tensorflow:Layer lstm_2 will not use cuDNN kernels since it doesn't meet the criteria. It will use a generic GPU kernel as fallback when running on GPU.\n",
            "WARNING:tensorflow:Layer lstm_2 will not use cuDNN kernels since it doesn't meet the criteria. It will use a generic GPU kernel as fallback when running on GPU.\n",
            "WARNING:tensorflow:Layer lstm_2 will not use cuDNN kernels since it doesn't meet the criteria. It will use a generic GPU kernel as fallback when running on GPU.\n"
          ]
        }
      ],
      "source": [
        "model = models.load_model('/content/drive/MyDrive/bc/BiLSTM_light')"
      ]
    },
    {
      "cell_type": "markdown",
      "metadata": {
        "id": "qf4f6-skPPsb"
      },
      "source": [
        "## Обучаем нейронную сеть"
      ]
    },
    {
      "cell_type": "markdown",
      "metadata": {
        "id": "GYw-jNpW9-40"
      },
      "source": [
        "Callback для сохранения нейронной сети на каждой эпохе, если качество работы на проверочном наборе данных улучшилось. Модель сохраняется в папке на гугл диске."
      ]
    },
    {
      "cell_type": "code",
      "execution_count": null,
      "metadata": {
        "id": "inD4DaNdWgpL"
      },
      "outputs": [],
      "source": [
        "model_save_path = '/content/drive/MyDrive/bc/BiLSTM'\n",
        "checkpoint_callback1 = ModelCheckpoint(model_save_path,\n",
        "                                      monitor='val_accuracy',\n",
        "                                      save_best_only=True,\n",
        "                                      verbose=1)"
      ]
    },
    {
      "cell_type": "code",
      "execution_count": null,
      "metadata": {
        "id": "3RjBsU8_PSqp"
      },
      "outputs": [],
      "source": [
        "history = model.fit(x_train,\n",
        "                    y_train,\n",
        "                    epochs=50,\n",
        "                    batch_size=512,\n",
        "                    validation_split=0.1,\n",
        "                    callbacks=[checkpoint_callback1])"
      ]
    },
    {
      "cell_type": "code",
      "execution_count": null,
      "metadata": {
        "colab": {
          "base_uri": "https://localhost:8080/",
          "height": 449
        },
        "id": "D87iUZmNP0rk",
        "outputId": "ddbc52c8-8501-4b32-af0c-5026b486b03b"
      },
      "outputs": [
        {
          "output_type": "display_data",
          "data": {
            "text/plain": [
              "<Figure size 640x480 with 1 Axes>"
            ],
            "image/png": "[encoded data removed]"
          },
          "metadata": {}
        }
      ],
      "source": [
        "plt.plot(history.history['accuracy'],\n",
        "         label='Доля верных ответов на обучающем наборе')\n",
        "plt.plot(history.history['val_accuracy'],\n",
        "         label='Доля верных ответов на проверочном наборе')\n",
        "plt.xlabel('Эпоха обучения')\n",
        "plt.ylabel('Доля верных ответов')\n",
        "plt.legend()\n",
        "plt.savefig(fname='training.png')\n",
        "plt.show()"
      ]
    },
    {
      "cell_type": "code",
      "execution_count": null,
      "metadata": {
        "colab": {
          "base_uri": "https://localhost:8080/"
        },
        "id": "H7SCDi0K2QhE",
        "outputId": "7dae2da7-21f3-4e61-9a9f-68019e0a5dac"
      },
      "outputs": [
        {
          "output_type": "execute_result",
          "data": {
            "text/plain": [
              "0.7900462746620178"
            ]
          },
          "metadata": {},
          "execution_count": 24
        }
      ],
      "source": [
        "max(history.history['val_accuracy'])"
      ]
    },
    {
      "cell_type": "markdown",
      "metadata": {
        "id": "3DJbzO3ucewV"
      },
      "source": [
        "## Оцениваем качество работы сети на тестовом наборе данных"
      ]
    },
    {
      "cell_type": "code",
      "execution_count": null,
      "metadata": {
        "colab": {
          "base_uri": "https://localhost:8080/"
        },
        "id": "MkFvNfFPcaPX",
        "outputId": "62c574ab-d922-4b3b-9740-cdf41fb0d420"
      },
      "outputs": [
        {
          "output_type": "stream",
          "name": "stdout",
          "text": [
            "Нейросеть правильно определила эмоциональную окраску 90.60% комментариев\n"
          ]
        }
      ],
      "source": [
        "quality = model.evaluate(x_test, y_test, verbose=0)\n",
        "print(f'Нейросеть правильно определила эмоциональную окраску {quality[1]:.2%} комментариев')"
      ]
    },
    {
      "cell_type": "markdown",
      "metadata": {
        "id": "_rpc1SbSdZJi"
      },
      "source": [
        "## Оцениваем тональность на собственном комментарие"
      ]
    },
    {
      "cell_type": "code",
      "execution_count": null,
      "metadata": {
        "id": "5Ig2zWixHi98"
      },
      "outputs": [],
      "source": [
        "navec = Navec.load('/content/drive/MyDrive/bc/navec_hudlit_v1_12B_500K_300d_100q.tar')"
      ]
    },
    {
      "cell_type": "code",
      "execution_count": null,
      "metadata": {
        "id": "guYJh1oVxZAW"
      },
      "outputs": [],
      "source": [
        "russian_stopwords = stopwords.words(\"russian\")"
      ]
    },
    {
      "cell_type": "code",
      "source": [
        "important_words = ['не', 'и', 'или', 'но']"
      ],
      "metadata": {
        "id": "0cjqU5UnP406"
      },
      "execution_count": null,
      "outputs": []
    },
    {
      "cell_type": "code",
      "source": [
        "for word in important_words:\n",
        "  if word in russian_stopwords:\n",
        "    russian_stopwords.remove(word)"
      ],
      "metadata": {
        "id": "ds2EoAxtP62a"
      },
      "execution_count": null,
      "outputs": []
    },
    {
      "cell_type": "code",
      "execution_count": null,
      "metadata": {
        "id": "C24oEqyuxaFW"
      },
      "outputs": [],
      "source": [
        "def clear_text(text: str) -> str:\n",
        "  cleared_text = re.sub(r'[^А-яЁё]+', ' ', text).lower()\n",
        "  return ' '.join(cleared_text.split())\n",
        "\n",
        "def tokenize(text: str) -> list:\n",
        "  tokens = text.split()\n",
        "  passed_tokens = []\n",
        "  for token in tokens:\n",
        "    if not(token in russian_stopwords):\n",
        "      passed_tokens.append(token)\n",
        "  return passed_tokens"
      ]
    },
    {
      "cell_type": "code",
      "execution_count": null,
      "metadata": {
        "id": "rkJv7y9Wxbv9"
      },
      "outputs": [],
      "source": [
        "def vectorize_tokens(tokens, navec, max_len):\n",
        "    unk = navec['<unk>']\n",
        "    text_embeddings = []\n",
        "    for tocken in tokens:\n",
        "        embedding = navec.get(tocken, unk)\n",
        "        text_embeddings.append(embedding)\n",
        "    l = len(text_embeddings)\n",
        "    if l > max_len:\n",
        "        text_embeddings = text_embeddings[:max_len]\n",
        "    else:\n",
        "        text_embeddings = [navec['<pad>']] * (max_len - l) + text_embeddings\n",
        "    return text_embeddings"
      ]
    },
    {
      "cell_type": "code",
      "execution_count": null,
      "metadata": {
        "id": "E7mb_GYadd_a"
      },
      "outputs": [],
      "source": [
        "text = 'Вы не правы. Это просто возмутительно! Только такой ужасный человек, как вы, способны сказать такое!'"
      ]
    },
    {
      "cell_type": "code",
      "execution_count": null,
      "metadata": {
        "id": "U_zJ4mOyxj6O"
      },
      "outputs": [],
      "source": [
        "tokens = tokenize(clear_text(text))"
      ]
    },
    {
      "cell_type": "code",
      "execution_count": null,
      "metadata": {
        "colab": {
          "base_uri": "https://localhost:8080/"
        },
        "id": "xN_XFWTfxslN",
        "outputId": "e991c98a-21a1-45df-82d0-96078e07ef87"
      },
      "outputs": [
        {
          "output_type": "execute_result",
          "data": {
            "text/plain": [
              "['не',\n",
              " 'правы',\n",
              " 'это',\n",
              " 'просто',\n",
              " 'возмутительно',\n",
              " 'ужасный',\n",
              " 'человек',\n",
              " 'способны',\n",
              " 'сказать',\n",
              " 'такое']"
            ]
          },
          "metadata": {},
          "execution_count": 18
        }
      ],
      "source": [
        "tokens"
      ]
    },
    {
      "cell_type": "code",
      "execution_count": null,
      "metadata": {
        "id": "mA-LQbC8xvZl"
      },
      "outputs": [],
      "source": [
        "vectors = vectorize_tokens(tokens, navec, max_comment_len)"
      ]
    },
    {
      "cell_type": "code",
      "execution_count": null,
      "metadata": {
        "id": "U_fOwXgS0EEz"
      },
      "outputs": [],
      "source": [
        "vectors = np.array([vectors])"
      ]
    },
    {
      "cell_type": "code",
      "execution_count": null,
      "metadata": {
        "colab": {
          "base_uri": "https://localhost:8080/"
        },
        "id": "VVZfepVn0X6D",
        "outputId": "7418bad9-1889-4c26-b473-e2923ee8a45c"
      },
      "outputs": [
        {
          "output_type": "execute_result",
          "data": {
            "text/plain": [
              "(1, 12, 300)"
            ]
          },
          "metadata": {},
          "execution_count": 21
        }
      ],
      "source": [
        "vectors.shape"
      ]
    },
    {
      "cell_type": "code",
      "execution_count": null,
      "metadata": {
        "id": "vqnKT8Xo0zgZ"
      },
      "outputs": [],
      "source": [
        "vectors = vectors.reshape(1, max_comment_len * vector_size)"
      ]
    },
    {
      "cell_type": "code",
      "execution_count": null,
      "metadata": {
        "id": "YuksUsTa8WPB"
      },
      "outputs": [],
      "source": [
        "vectors = vectors[:, None, :]"
      ]
    },
    {
      "cell_type": "code",
      "execution_count": null,
      "metadata": {
        "colab": {
          "base_uri": "https://localhost:8080/"
        },
        "id": "G5BVuZ6i8N3y",
        "outputId": "bf523f0b-6585-47fc-e355-92174f14b225"
      },
      "outputs": [
        {
          "output_type": "stream",
          "name": "stdout",
          "text": [
            "1/1 [==============================] - 2s 2s/step\n"
          ]
        }
      ],
      "source": [
        "result = model.predict(vectors)"
      ]
    },
    {
      "cell_type": "code",
      "execution_count": null,
      "metadata": {
        "colab": {
          "base_uri": "https://localhost:8080/"
        },
        "id": "armKRGF18UTZ",
        "outputId": "1bfa11dc-7a35-4e0e-ec63-427faafc41f2"
      },
      "outputs": [
        {
          "output_type": "execute_result",
          "data": {
            "text/plain": [
              "array([[0.07464638]], dtype=float32)"
            ]
          },
          "metadata": {},
          "execution_count": 25
        }
      ],
      "source": [
        "result"
      ]
    },
    {
      "cell_type": "code",
      "source": [],
      "metadata": {
        "id": "0gRRrdv3E_fv"
      },
      "execution_count": null,
      "outputs": []
    }
  ],
  "metadata": {
    "accelerator": "GPU",
    "colab": {
      "provenance": []
    },
    "kernelspec": {
      "display_name": "Python 3",
      "name": "python3"
    }
  },
  "nbformat": 4,
  "nbformat_minor": 0
}