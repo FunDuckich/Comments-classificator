{
  "cells": [
    {
      "cell_type": "markdown",
      "metadata": {
        "id": "oCAPUKemUnlH"
      },
      "source": [
        "##Подключаем гугл диск и стягиваем актуальные данные с него в гугл коллаб:"
      ]
    },
    {
      "cell_type": "code",
      "execution_count": null,
      "metadata": {
        "id": "jTn5YKukaY4E"
      },
      "outputs": [],
      "source": [
        "from google.colab import drive\n",
        "drive.mount('/content/drive')"
      ]
    },
    {
      "cell_type": "markdown",
      "metadata": {
        "id": "QoF04eVXUwE-"
      },
      "source": [
        "##Копирование датасета с гугл диска:"
      ]
    },
    {
      "cell_type": "code",
      "execution_count": null,
      "metadata": {
        "id": "2Sm34WRjbQJH"
      },
      "outputs": [],
      "source": [
        "!cp /content/drive/MyDrive/bc/data.csv ."
      ]
    },
    {
      "cell_type": "markdown",
      "metadata": {
        "id": "Zwr1a80ti7_y"
      },
      "source": [
        "##Скачивание и импортирование библиотек:"
      ]
    },
    {
      "cell_type": "code",
      "source": [
        "!pip install navec"
      ],
      "metadata": {
        "id": "KyfcyN5XCHEM"
      },
      "execution_count": null,
      "outputs": []
    },
    {
      "cell_type": "code",
      "execution_count": null,
      "metadata": {
        "id": "fN251ib04idq"
      },
      "outputs": [],
      "source": [
        "import pandas as pd\n",
        "import numpy as np\n",
        "import matplotlib.pyplot as plt\n",
        "%matplotlib inline\n",
        "import re\n",
        "\n",
        "import nltk\n",
        "from nltk.corpus import stopwords\n",
        "nltk.download(\"stopwords\")\n",
        "\n",
        "from navec import Navec"
      ]
    },
    {
      "cell_type": "markdown",
      "source": [
        "##Определяем максимальную длину комментария (кол-во слов) и размер вектора:"
      ],
      "metadata": {
        "id": "9CQBrF_9IKBk"
      }
    },
    {
      "cell_type": "code",
      "execution_count": null,
      "metadata": {
        "id": "KVUY1PF0L_mF"
      },
      "outputs": [],
      "source": [
        "max_comment_len = 12\n",
        "vector_size = 300"
      ]
    },
    {
      "cell_type": "markdown",
      "source": [
        "##Скачиваем или стягиваем векторные представления слов от Яндекса"
      ],
      "metadata": {
        "id": "1gh3ey2wIZt6"
      }
    },
    {
      "cell_type": "code",
      "source": [
        "!wget https://storage.yandexcloud.net/natasha-navec/packs/navec_hudlit_v1_12B_500K_300d_100q.tar -O navec_hudlit_v1_12B_500K_300d_100q.tar"
      ],
      "metadata": {
        "id": "sVSIgdj0Cu7a"
      },
      "execution_count": null,
      "outputs": []
    },
    {
      "cell_type": "code",
      "source": [
        "navec = Navec.load('/content/drive/MyDrive/bc/navec_hudlit_v1_12B_500K_300d_100q.tar')"
      ],
      "metadata": {
        "id": "LBAr5HM2CzYZ"
      },
      "execution_count": null,
      "outputs": []
    },
    {
      "cell_type": "markdown",
      "metadata": {
        "id": "9YjyMnJOHoSY"
      },
      "source": [
        "## Загружаем данные в память и убираем пустые строки\n",
        "\n"
      ]
    },
    {
      "cell_type": "code",
      "execution_count": null,
      "metadata": {
        "id": "_bfxoZ7Zexxl"
      },
      "outputs": [],
      "source": [
        "data = open('data.csv')"
      ]
    },
    {
      "cell_type": "code",
      "execution_count": null,
      "metadata": {
        "id": "viAteYU0HakW"
      },
      "outputs": [],
      "source": [
        "dataset = pd.read_csv(data)"
      ]
    },
    {
      "cell_type": "code",
      "execution_count": null,
      "metadata": {
        "id": "I4GwmhKuTeYR"
      },
      "outputs": [],
      "source": [
        "dataset"
      ]
    },
    {
      "cell_type": "code",
      "execution_count": null,
      "metadata": {
        "id": "QTbvoCJxKpdr"
      },
      "outputs": [],
      "source": [
        "dataset = dataset.dropna()"
      ]
    },
    {
      "cell_type": "code",
      "execution_count": null,
      "metadata": {
        "id": "lyXTfEMhTYx6"
      },
      "outputs": [],
      "source": [
        "dataset"
      ]
    },
    {
      "cell_type": "markdown",
      "metadata": {
        "id": "EFVC5ro1Ye3k"
      },
      "source": [
        "## Очищаем и представляем отзывы как вектора"
      ]
    },
    {
      "cell_type": "code",
      "execution_count": null,
      "metadata": {
        "id": "2dLOkAWwYpBT"
      },
      "outputs": [],
      "source": [
        "russian_stopwords = stopwords.words(\"russian\")"
      ]
    },
    {
      "cell_type": "code",
      "source": [
        "important_words = ['не', 'и', 'или', 'но']"
      ],
      "metadata": {
        "id": "McprAcJ9IvxB"
      },
      "execution_count": null,
      "outputs": []
    },
    {
      "cell_type": "code",
      "source": [
        "for word in important_words:\n",
        "  if word in russian_stopwords:\n",
        "    russian_stopwords.remove(word)"
      ],
      "metadata": {
        "id": "kJqMA5IdJN_Q"
      },
      "execution_count": null,
      "outputs": []
    },
    {
      "cell_type": "code",
      "execution_count": null,
      "metadata": {
        "id": "zVowCb2zZkZo"
      },
      "outputs": [],
      "source": [
        "def clear_text(text: str) -> str:\n",
        "  cleared_text = re.sub(r'[^А-яЁё]+', ' ', text).lower()\n",
        "  return ' '.join(cleared_text.split())\n",
        "\n",
        "def tokenize(text: str) -> list:\n",
        "  tokens = text.split()\n",
        "  passed_tokens = []\n",
        "  for token in tokens:\n",
        "    if not(token in russian_stopwords):\n",
        "      passed_tokens.append(token)\n",
        "  return passed_tokens"
      ]
    },
    {
      "cell_type": "code",
      "execution_count": null,
      "metadata": {
        "id": "ykqYd2S4dvAD"
      },
      "outputs": [],
      "source": [
        "dataset['Clear_comment'] = dataset['Comment'].apply(lambda x: tokenize(clear_text(str(x))))"
      ]
    },
    {
      "cell_type": "code",
      "source": [
        "def vectorize_tokens(tokens, navec, max_len):\n",
        "    unk = navec['<unk>']\n",
        "    text_embeddings = []\n",
        "    for tocken in tokens:\n",
        "        embedding = navec.get(tocken, unk)\n",
        "        text_embeddings.append(embedding)\n",
        "    l = len(text_embeddings)\n",
        "    if l > max_len:\n",
        "        text_embeddings = text_embeddings[:max_len]\n",
        "    else:\n",
        "        text_embeddings = [navec['<pad>']] * (max_len - l) + text_embeddings\n",
        "    return text_embeddings"
      ],
      "metadata": {
        "id": "89ZiMD_xWbf_"
      },
      "execution_count": null,
      "outputs": []
    },
    {
      "cell_type": "code",
      "source": [
        "dataset['Vectors'] = dataset['Clear_comment'].apply(lambda x: vectorize_tokens(x, navec, max_comment_len))"
      ],
      "metadata": {
        "id": "3sUU87zyb7H6"
      },
      "execution_count": null,
      "outputs": []
    },
    {
      "cell_type": "code",
      "source": [
        "dataset"
      ],
      "metadata": {
        "id": "ZFhXzP_yAVGf"
      },
      "execution_count": null,
      "outputs": []
    },
    {
      "cell_type": "markdown",
      "metadata": {
        "id": "gA0GvoWDKulp"
      },
      "source": [
        "##Выделяем данные для обучения и теста, сохраняем ответы к ним:"
      ]
    },
    {
      "cell_type": "code",
      "source": [
        "train = dataset[1000:]"
      ],
      "metadata": {
        "id": "BphrWBPmivpf"
      },
      "execution_count": null,
      "outputs": []
    },
    {
      "cell_type": "code",
      "execution_count": null,
      "metadata": {
        "id": "5t_vJBSyIUoG"
      },
      "outputs": [],
      "source": [
        "y_train = train['isPositive'].astype('int')"
      ]
    },
    {
      "cell_type": "code",
      "source": [
        "file = open('/content/drive/MyDrive/bc/y_train', 'wb')\n",
        "np.save(file, y_train)\n",
        "file.close()"
      ],
      "metadata": {
        "id": "aOqzpGsPUvYO"
      },
      "execution_count": null,
      "outputs": []
    },
    {
      "cell_type": "code",
      "source": [
        "test = dataset[:1000]"
      ],
      "metadata": {
        "id": "gh38KuKNryJo"
      },
      "execution_count": null,
      "outputs": []
    },
    {
      "cell_type": "code",
      "source": [
        "y_test = test['isPositive'].astype('int')"
      ],
      "metadata": {
        "id": "Fc3vt9_Gr3NX"
      },
      "execution_count": null,
      "outputs": []
    },
    {
      "cell_type": "code",
      "source": [
        "file = open('/content/drive/MyDrive/bc/y_test', 'wb')\n",
        "np.save(file, y_test)\n",
        "file.close()"
      ],
      "metadata": {
        "id": "UZ-41LVOUnbX"
      },
      "execution_count": null,
      "outputs": []
    },
    {
      "cell_type": "markdown",
      "source": [
        "##Меняем размерность векторных представлений (по частям, чтобы не зависло), сохраняем их:"
      ],
      "metadata": {
        "id": "yi5hnc-oxM-r"
      }
    },
    {
      "cell_type": "code",
      "source": [
        "x_alltrain = np.array(train['Vectors'].tolist())"
      ],
      "metadata": {
        "id": "1fghFlD58hEL"
      },
      "execution_count": null,
      "outputs": []
    },
    {
      "cell_type": "code",
      "source": [
        "x_train1 = x_alltrain[:10000].reshape(len(x_alltrain[:10000]), max_comment_len * vector_size)"
      ],
      "metadata": {
        "id": "MbszcEOR8moR"
      },
      "execution_count": null,
      "outputs": []
    },
    {
      "cell_type": "code",
      "source": [
        "x_train2 = x_alltrain[10000:20000].reshape(len(x_alltrain[10000:20000]), max_comment_len * vector_size)"
      ],
      "metadata": {
        "id": "D01arOhM96t0"
      },
      "execution_count": null,
      "outputs": []
    },
    {
      "cell_type": "code",
      "source": [
        "x_train3 = x_alltrain[20000:30000].reshape(len(x_alltrain[20000:30000]), max_comment_len * vector_size)"
      ],
      "metadata": {
        "id": "v8bQvfxq-LcT"
      },
      "execution_count": null,
      "outputs": []
    },
    {
      "cell_type": "code",
      "source": [
        "x_train4 = x_alltrain[30000:].reshape(len(x_alltrain[30000:]), max_comment_len * vector_size)"
      ],
      "metadata": {
        "id": "6G3JBj2K-bsb"
      },
      "execution_count": null,
      "outputs": []
    },
    {
      "cell_type": "code",
      "source": [
        "x_train = np.vstack([x_train1, x_train2])"
      ],
      "metadata": {
        "id": "-BbHOR4QvNrV"
      },
      "execution_count": null,
      "outputs": []
    },
    {
      "cell_type": "code",
      "source": [
        "x_train = np.vstack([x_train, x_train3])"
      ],
      "metadata": {
        "id": "Rt6rO6b0iR2t"
      },
      "execution_count": null,
      "outputs": []
    },
    {
      "cell_type": "code",
      "source": [
        "x_train = np.vstack([x_train, x_train4])"
      ],
      "metadata": {
        "id": "3ZsK7CPXDcQf"
      },
      "execution_count": null,
      "outputs": []
    },
    {
      "cell_type": "code",
      "source": [
        "x_train.shape"
      ],
      "metadata": {
        "id": "r2FEeEPw023x"
      },
      "execution_count": null,
      "outputs": []
    },
    {
      "cell_type": "code",
      "source": [
        "file = open('/content/drive/MyDrive/bc/x_train', 'wb')\n",
        "np.save(file, x_train)\n",
        "file.close()"
      ],
      "metadata": {
        "id": "JE2H1-dousrS"
      },
      "execution_count": null,
      "outputs": []
    },
    {
      "cell_type": "code",
      "source": [
        "x_alltest = np.array(test['Vectors'].tolist())"
      ],
      "metadata": {
        "id": "PAHnnWLpUJ3a"
      },
      "execution_count": null,
      "outputs": []
    },
    {
      "cell_type": "code",
      "source": [
        "x_test = x_alltest.reshape(len(x_alltest), max_comment_len * vector_size)"
      ],
      "metadata": {
        "id": "8rlM8D2Ar80v"
      },
      "execution_count": null,
      "outputs": []
    },
    {
      "cell_type": "code",
      "source": [
        "\n",
        "x_test.shape"
      ],
      "metadata": {
        "colab": {
          "base_uri": "https://localhost:8080/"
        },
        "id": "MoSuf080czuL",
        "outputId": "d9be1860-c133-44bd-b867-83a42ee1923e"
      },
      "execution_count": null,
      "outputs": [
        {
          "output_type": "execute_result",
          "data": {
            "text/plain": [
              "(1000, 3600)"
            ]
          },
          "metadata": {},
          "execution_count": 45
        }
      ]
    },
    {
      "cell_type": "code",
      "source": [
        "file = open('/content/drive/MyDrive/bc/x_test', 'wb')\n",
        "np.save(file, x_test)\n",
        "file.close()"
      ],
      "metadata": {
        "id": "UMgDzwAPUht_"
      },
      "execution_count": null,
      "outputs": []
    }
  ],
  "metadata": {
    "accelerator": "GPU",
    "colab": {
      "provenance": [],
      "collapsed_sections": [
        "sjS5LmpnU8AN"
      ],
      "gpuType": "T4"
    },
    "kernelspec": {
      "display_name": "Python 3",
      "name": "python3"
    }
  },
  "nbformat": 4,
  "nbformat_minor": 0
}